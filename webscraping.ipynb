{
  "nbformat": 4,
  "nbformat_minor": 0,
  "metadata": {
    "colab": {
      "provenance": [],
      "toc_visible": true,
      "authorship_tag": "ABX9TyPQOaCmW71K6Vcc6tqYfzRm",
      "include_colab_link": true
    },
    "kernelspec": {
      "name": "python3",
      "display_name": "Python 3"
    },
    "language_info": {
      "name": "python"
    }
  },
  "cells": [
    {
      "cell_type": "markdown",
      "metadata": {
        "id": "view-in-github",
        "colab_type": "text"
      },
      "source": [
        "<a href=\"https://colab.research.google.com/github/sridhar-reddy-27/WebScraping/blob/main/webscraping.ipynb\" target=\"_parent\"><img src=\"https://colab.research.google.com/assets/colab-badge.svg\" alt=\"Open In Colab\"/></a>"
      ]
    },
    {
      "cell_type": "markdown",
      "source": [
        "# **Import required Libraries**"
      ],
      "metadata": {
        "id": "v4qmwvzs7v0O"
      }
    },
    {
      "cell_type": "code",
      "execution_count": null,
      "metadata": {
        "id": "63T0QbX52DAO"
      },
      "outputs": [],
      "source": [
        "import requests\n",
        "from bs4 import BeautifulSoup\n",
        "import pandas as pd"
      ]
    },
    {
      "cell_type": "markdown",
      "source": [
        "# **Store the website url in a variable**"
      ],
      "metadata": {
        "id": "WZszpa8A8q2z"
      }
    },
    {
      "cell_type": "code",
      "source": [
        "website = \"https://ackodrive.com/collection/tata-cars/\"\n",
        "headers = {\n",
        "    \"User-Agent\": \"Mozilla/5.0 (Windows NT 10.0; Win64; x64) AppleWebKit/537.36 (KHTML, like Gecko) Chrome/137.0.0.0 Safari/537.36 Edg/137.0.0.0\"\n",
        "}\n"
      ],
      "metadata": {
        "id": "UmJkd1M42cOQ"
      },
      "execution_count": null,
      "outputs": []
    },
    {
      "cell_type": "markdown",
      "source": [
        "# **Send the Request**"
      ],
      "metadata": {
        "id": "OhE_OfVjK3Nj"
      }
    },
    {
      "cell_type": "code",
      "source": [
        "response = requests.get(website,headers = headers)"
      ],
      "metadata": {
        "id": "2KdK-LhG89gW"
      },
      "execution_count": null,
      "outputs": []
    },
    {
      "cell_type": "code",
      "source": [
        "if response.status_code == 200:\n",
        "    html_content = response.text\n",
        "else:\n",
        "    print(\"fetching error\",response.status_code)"
      ],
      "metadata": {
        "id": "buefdUT1g2m0"
      },
      "execution_count": null,
      "outputs": []
    },
    {
      "cell_type": "markdown",
      "source": [
        "# **Parse the Content**"
      ],
      "metadata": {
        "id": "i8-qHBueLgI3"
      }
    },
    {
      "cell_type": "code",
      "source": [
        "soup = BeautifulSoup(html_content, 'html.parser')"
      ],
      "metadata": {
        "id": "CpbX3fQk9K2h"
      },
      "execution_count": null,
      "outputs": []
    },
    {
      "cell_type": "markdown",
      "source": [
        "# **Find all car cards**"
      ],
      "metadata": {
        "id": "nOTEoi0fMmnV"
      }
    },
    {
      "cell_type": "code",
      "source": [
        "results = soup.find_all(\"div\", class_=\"model-card___2zN1a\")"
      ],
      "metadata": {
        "id": "uVnxCdMI9SeW"
      },
      "execution_count": null,
      "outputs": []
    },
    {
      "cell_type": "code",
      "source": [
        "results = soup.find_all('div',{'data-testid':'listingcardesktop'})\n",
        "len(results)"
      ],
      "metadata": {
        "colab": {
          "base_uri": "https://localhost:8080/"
        },
        "id": "gBphbDDd0puR",
        "outputId": "2ddfe4b2-07fd-46ce-a4e5-16d290f8ed63"
      },
      "execution_count": null,
      "outputs": [
        {
          "output_type": "execute_result",
          "data": {
            "text/plain": [
              "16"
            ]
          },
          "metadata": {},
          "execution_count": 7
        }
      ]
    },
    {
      "cell_type": "markdown",
      "source": [
        "# **Manually extract the data for a Car**"
      ],
      "metadata": {
        "id": "qoInxbacQoSc"
      }
    },
    {
      "cell_type": "code",
      "source": [
        "results[1].find('span',{'class':'styles__Make-sc-a6403e05-5 etWSJY'}).get_text()"
      ],
      "metadata": {
        "colab": {
          "base_uri": "https://localhost:8080/",
          "height": 36
        },
        "id": "wmI9J4ah5rXL",
        "outputId": "36a180a7-e047-4652-ae09-eed2d4ac9341"
      },
      "execution_count": null,
      "outputs": [
        {
          "output_type": "execute_result",
          "data": {
            "text/plain": [
              "'Tata'"
            ],
            "application/vnd.google.colaboratory.intrinsic+json": {
              "type": "string"
            }
          },
          "metadata": {},
          "execution_count": 8
        }
      ]
    },
    {
      "cell_type": "code",
      "source": [
        "results[1].find('span',{'class':'styles__ModelName-sc-a6403e05-6 hGuUnc'}).get_text()"
      ],
      "metadata": {
        "colab": {
          "base_uri": "https://localhost:8080/",
          "height": 36
        },
        "id": "hleyU4GsjHT-",
        "outputId": "31db79dd-e484-4577-b46d-bcd7adc2f19a"
      },
      "execution_count": null,
      "outputs": [
        {
          "output_type": "execute_result",
          "data": {
            "text/plain": [
              "'Nexon'"
            ],
            "application/vnd.google.colaboratory.intrinsic+json": {
              "type": "string"
            }
          },
          "metadata": {},
          "execution_count": 9
        }
      ]
    },
    {
      "cell_type": "code",
      "source": [
        "results[1].find('div',{'data-testid':'car_price'}).get_text()"
      ],
      "metadata": {
        "colab": {
          "base_uri": "https://localhost:8080/",
          "height": 36
        },
        "id": "qBeQzhTkjV1x",
        "outputId": "566a2768-d8d5-462b-8501-b3a1baad54bf"
      },
      "execution_count": null,
      "outputs": [
        {
          "output_type": "execute_result",
          "data": {
            "text/plain": [
              "'₹10.02 L'"
            ],
            "application/vnd.google.colaboratory.intrinsic+json": {
              "type": "string"
            }
          },
          "metadata": {},
          "execution_count": 10
        }
      ]
    },
    {
      "cell_type": "code",
      "source": [
        "results[1].find('p',{'data-testid':'car_variant_fuel_type'}).get_text()"
      ],
      "metadata": {
        "colab": {
          "base_uri": "https://localhost:8080/",
          "height": 36
        },
        "id": "qTmeRLGnjujS",
        "outputId": "6392134b-03ac-474d-bfe9-e14921692a7e"
      },
      "execution_count": null,
      "outputs": [
        {
          "output_type": "execute_result",
          "data": {
            "text/plain": [
              "'Petrol'"
            ],
            "application/vnd.google.colaboratory.intrinsic+json": {
              "type": "string"
            }
          },
          "metadata": {},
          "execution_count": 11
        }
      ]
    },
    {
      "cell_type": "code",
      "source": [
        "results[1].find('p',{'data-testid':'car_variant_transmission'}).get_text()"
      ],
      "metadata": {
        "colab": {
          "base_uri": "https://localhost:8080/",
          "height": 36
        },
        "id": "0V1amyWYkHyj",
        "outputId": "22ebb23c-6159-4a2f-dfcd-0e544dabd813"
      },
      "execution_count": null,
      "outputs": [
        {
          "output_type": "execute_result",
          "data": {
            "text/plain": [
              "'Manual'"
            ],
            "application/vnd.google.colaboratory.intrinsic+json": {
              "type": "string"
            }
          },
          "metadata": {},
          "execution_count": 12
        }
      ]
    },
    {
      "cell_type": "markdown",
      "source": [
        "# **Loop through each car card and extract key specs like name, price, fuel type, transmission, and model type**"
      ],
      "metadata": {
        "id": "-cK6bZ8KRP_n"
      }
    },
    {
      "cell_type": "code",
      "source": [
        "data = []\n",
        "\n",
        "for car in results:\n",
        "    name = car.find('h2')\n",
        "    price = car.find('div', {'data-testid': 'car_price'})\n",
        "    fuel = car.find('p', {'data-testid': 'car_variant_fuel_type'})\n",
        "    trans = car.find('p', {'data-testid': 'car_variant_transmission'})\n",
        "    model = car.find('p', {'class': 'styles__ParaWithoutMargins-sc-a6403e05-34 iAPjDz'})\n",
        "\n",
        "    data.append({\n",
        "        \"Name\": name.get_text() if name else \"N/A\",\n",
        "        \"Price\": price.get_text() if price else \"N/A\",\n",
        "        \"Fuel Type\": fuel.get_text() if fuel else \"N/A\",\n",
        "        \"Transmission\": trans.get_text() if trans else \"N/A\",\n",
        "        \"Model Type\": model.get_text() if model else \"N/A\"\n",
        "    })\n"
      ],
      "metadata": {
        "id": "bLtGLjVkOM0a"
      },
      "execution_count": null,
      "outputs": []
    },
    {
      "cell_type": "markdown",
      "source": [
        "# **Convert the list of dictionaries into a Pandas DataFrame**"
      ],
      "metadata": {
        "id": "oA-0q5QF04cq"
      }
    },
    {
      "cell_type": "code",
      "source": [
        "df = pd.DataFrame(data)"
      ],
      "metadata": {
        "id": "tgETGLf5Rlrl"
      },
      "execution_count": null,
      "outputs": []
    },
    {
      "cell_type": "markdown",
      "source": [
        "# **Display the extracted car data in tabular format**"
      ],
      "metadata": {
        "id": "LsFUeeQl1BmK"
      }
    },
    {
      "cell_type": "code",
      "source": [
        "print(df)"
      ],
      "metadata": {
        "colab": {
          "base_uri": "https://localhost:8080/"
        },
        "id": "VOmz0amN0tMg",
        "outputId": "1d4f29e2-d451-48ed-ef49-d1d983c8cbbb"
      },
      "execution_count": null,
      "outputs": [
        {
          "output_type": "stream",
          "name": "stdout",
          "text": [
            "                             Name     Price Fuel Type Transmission Model Type\n",
            "0                      Tata Punch   ₹6.71 L    Petrol       Manual        SUV\n",
            "1                      Tata Nexon  ₹10.02 L    Petrol       Manual        SUV\n",
            "2                   Tata Curvv EV  ₹20.28 L  Electric    Automatic        SUV\n",
            "3                   Tata Nexon EV  ₹17.94 L  Electric    Automatic        SUV\n",
            "4                    Tata Harrier  ₹22.14 L    Diesel       Manual        SUV\n",
            "5                   Tata Punch EV  ₹13.65 L  Electric    Automatic        SUV\n",
            "6                     Tata Safari  ₹18.37 L    Diesel       Manual        SUV\n",
            "7                      Tata Curvv  ₹13.12 L    Petrol       Manual        SUV\n",
            "8                      Tata Tigor   ₹6.69 L    Petrol       Manual      Sedan\n",
            "9                   Tata Tiago EV  ₹10.93 L  Electric    Automatic  Hatchback\n",
            "10                 Tata Tiago NRG   ₹8.30 L    Petrol       Manual  Hatchback\n",
            "11                     Tata Tiago   ₹5.62 L    Petrol       Manual  Hatchback\n",
            "12                    Tata Altroz   ₹7.85 L    Petrol       Manual  Hatchback\n",
            "13                Tata Harrier EV  ₹23.16 L  Electric    Automatic        SUV\n",
            "14       Tata Harrier (2020-2023)       N/A    Diesel       Manual        SUV\n",
            "15  Tata Nexon EV Max (2022-2023)       N/A  Electric    Automatic        SUV\n"
          ]
        }
      ]
    }
  ]
}